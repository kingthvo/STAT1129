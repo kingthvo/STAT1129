{
 "cells": [
  {
   "cell_type": "code",
   "execution_count": 3,
   "id": "f9e259de",
   "metadata": {},
   "outputs": [
    {
     "name": "stdout",
     "output_type": "stream",
     "text": [
      "0\n",
      "1\n",
      "2\n",
      "3\n",
      "4\n"
     ]
    }
   ],
   "source": [
    "#Example\n",
    "def less_than(num):\n",
    "    for n in range(num):\n",
    "        print(n)\n",
    "\n",
    "less_than(5)"
   ]
  },
  {
   "cell_type": "code",
   "execution_count": 122,
   "id": "9c85371d",
   "metadata": {},
   "outputs": [
    {
     "data": {
      "text/plain": [
       "66"
      ]
     },
     "execution_count": 122,
     "metadata": {},
     "output_type": "execute_result"
    }
   ],
   "source": [
    "#Question 1\n",
    "def student_grade(call_name):\n",
    "    marks = {'Andy':88, 'Amy':66, 'James': 90, 'Jules': 55, 'Arthur': 77}\n",
    "    for name, grade in marks.items():\n",
    "        if name == call_name:\n",
    "            return grade\n",
    "    else:\n",
    "        print('cannot find student name')\n",
    "    \n",
    "student_grade('Amy')"
   ]
  },
  {
   "cell_type": "code",
   "execution_count": 123,
   "id": "99b4524b",
   "metadata": {},
   "outputs": [
    {
     "data": {
      "text/plain": [
       "75.2"
      ]
     },
     "execution_count": 123,
     "metadata": {},
     "output_type": "execute_result"
    }
   ],
   "source": [
    "marks = {'Andy':88, 'Amy':66, 'James': 90, 'Jules': 55, 'Arthur': 77}\n",
    "def average_grade(gradebook):\n",
    "    total=0\n",
    "    for name, grade in gradebook.items():\n",
    "        total+=grade\n",
    "    average=total/len(gradebook)\n",
    "    return average \n",
    "    \n",
    "average_grade(marks)"
   ]
  },
  {
   "cell_type": "code",
   "execution_count": 124,
   "id": "7497bb47",
   "metadata": {},
   "outputs": [
    {
     "name": "stdout",
     "output_type": "stream",
     "text": [
      "0 , 0\n",
      "1 , 1\n",
      "2 , 4\n",
      "3 , 9\n",
      "4 , 16\n",
      "5 , 25\n",
      "6 , 36\n",
      "7 , 49\n",
      "number is equal to or greater than 8\n"
     ]
    }
   ],
   "source": [
    "#Question 2\n",
    "def less_than(num):\n",
    "    n=0\n",
    "    while n<num:\n",
    "        print(n, ',', n**2)\n",
    "        n+=1\n",
    "    else:\n",
    "        print('number is equal to or greater than', num)\n",
    "        \n",
    "less_than(8)"
   ]
  },
  {
   "cell_type": "code",
   "execution_count": 34,
   "id": "2cc4d06b",
   "metadata": {},
   "outputs": [
    {
     "data": {
      "text/plain": [
       "15"
      ]
     },
     "execution_count": 34,
     "metadata": {},
     "output_type": "execute_result"
    }
   ],
   "source": [
    "#Question 3\n",
    "def add(num):\n",
    "    n=1\n",
    "    sum=0\n",
    "    while n<=num:\n",
    "        sum+=n\n",
    "        n+=1\n",
    "    return sum\n",
    "\n",
    "add(5)"
   ]
  },
  {
   "cell_type": "code",
   "execution_count": 37,
   "id": "fa3c8c22",
   "metadata": {},
   "outputs": [
    {
     "name": "stdout",
     "output_type": "stream",
     "text": [
      "1\n",
      "3\n",
      "6\n",
      "10\n",
      "15\n"
     ]
    }
   ],
   "source": [
    "#Question 4\n",
    "def add(num):\n",
    "    sum=0\n",
    "    for n in range(1, num+1):\n",
    "        sum+=n\n",
    "        print(sum)\n",
    "\n",
    "add(5)"
   ]
  },
  {
   "cell_type": "code",
   "execution_count": 42,
   "id": "6a64799a",
   "metadata": {},
   "outputs": [
    {
     "name": "stdout",
     "output_type": "stream",
     "text": [
      "50\n",
      "4950\n",
      "28.722813232690143\n"
     ]
    }
   ],
   "source": [
    "#Question 5\n",
    "import statistics as stat \n",
    "list=range(1,100)\n",
    "\n",
    "print(stat.mean(list))\n",
    "print(sum(list))\n",
    "print(stat.stdev(list))"
   ]
  },
  {
   "cell_type": "code",
   "execution_count": 51,
   "id": "0924cfdd",
   "metadata": {},
   "outputs": [
    {
     "name": "stdout",
     "output_type": "stream",
     "text": [
      "-2\n"
     ]
    }
   ],
   "source": [
    "#Question 6\n",
    "def minimal(v1,v2,v3,v4):\n",
    "    min=v1\n",
    "    if v2<min:\n",
    "        min=v2\n",
    "    if v3<min:\n",
    "        min=v3\n",
    "    if v4<min:\n",
    "        min=v4\n",
    "    return min \n",
    " \n",
    "print(minimal(6,2,-2,1))"
   ]
  },
  {
   "cell_type": "code",
   "execution_count": 94,
   "id": "47896e93",
   "metadata": {},
   "outputs": [
    {
     "name": "stdout",
     "output_type": "stream",
     "text": [
      "abcdefghi\n"
     ]
    }
   ],
   "source": [
    "#Question 7\n",
    "def concatenate(s1,s2,s3):\n",
    "    string=s1+s2+s3\n",
    "    return string    \n",
    "\n",
    "print(concatenate('abc','def','ghi'))"
   ]
  },
  {
   "cell_type": "code",
   "execution_count": null,
   "id": "a222322c",
   "metadata": {},
   "outputs": [],
   "source": []
  },
  {
   "cell_type": "code",
   "execution_count": null,
   "id": "876bf8c8",
   "metadata": {},
   "outputs": [],
   "source": []
  }
 ],
 "metadata": {
  "kernelspec": {
   "display_name": "Python 3 (ipykernel)",
   "language": "python",
   "name": "python3"
  },
  "language_info": {
   "codemirror_mode": {
    "name": "ipython",
    "version": 3
   },
   "file_extension": ".py",
   "mimetype": "text/x-python",
   "name": "python",
   "nbconvert_exporter": "python",
   "pygments_lexer": "ipython3",
   "version": "3.9.12"
  }
 },
 "nbformat": 4,
 "nbformat_minor": 5
}
