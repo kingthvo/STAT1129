{
 "cells": [
  {
   "cell_type": "code",
   "execution_count": 2,
   "id": "5172ac9f",
   "metadata": {},
   "outputs": [
    {
     "name": "stdout",
     "output_type": "stream",
     "text": [
      "Kim 21 Econ woman True homo homo sapians True\n",
      "Cosette 20 Cog Neuro woman True homo homo sapians True\n"
     ]
    }
   ],
   "source": [
    "#Question 1\n",
    "class Human:\n",
    "    limbs=True\n",
    "    genus='homo'\n",
    "    species='homo sapians'\n",
    "    adult=True\n",
    "    \n",
    "    def __init__(self, name, age, major, gender):\n",
    "        self.name=name\n",
    "        self.age=age\n",
    "        self.major=major\n",
    "        self.gender=gender\n",
    "        \n",
    "A=Human(name=\"Kim\",age='21', major=\"Econ\", gender='woman')\n",
    "B=Human(name=\"Cosette\", age='20', major=\"Cog Neuro\", gender='woman')\n",
    "\n",
    "print(A.name, A.age, A.major, A.gender, A.limbs, A.genus, A.species, A.adult)\n",
    "print(B.name, B.age, B.major, B.gender, B.limbs, B.genus, B.species, B.adult)"
   ]
  },
  {
   "cell_type": "code",
   "execution_count": 5,
   "id": "4ec8031b",
   "metadata": {},
   "outputs": [
    {
     "data": {
      "text/plain": [
       "10.0"
      ]
     },
     "execution_count": 5,
     "metadata": {},
     "output_type": "execute_result"
    }
   ],
   "source": [
    "#Question 2\n",
    "class Point:\n",
    "    def __init__(self,x=0,y=0):\n",
    "        self.x = x\n",
    "        self.y = y\n",
    "\n",
    "    def distance_to_origin(self):\n",
    "        return ((self.x**2)+(self.y**2))**.5\n",
    "    \n",
    "p = Point(0,10)\n",
    "p.distance_to_origin()"
   ]
  },
  {
   "cell_type": "code",
   "execution_count": 7,
   "id": "a9bb41ff",
   "metadata": {},
   "outputs": [
    {
     "ename": "AttributeError",
     "evalue": "'B' object has no attribute 'i'",
     "output_type": "error",
     "traceback": [
      "\u001b[0;31m---------------------------------------------------------------------------\u001b[0m",
      "\u001b[0;31mAttributeError\u001b[0m                            Traceback (most recent call last)",
      "Input \u001b[0;32mIn [7]\u001b[0m, in \u001b[0;36m<cell line: 14>\u001b[0;34m()\u001b[0m\n\u001b[1;32m     11\u001b[0m     \u001b[38;5;28mprint\u001b[39m(b\u001b[38;5;241m.\u001b[39mi)\n\u001b[1;32m     12\u001b[0m     \u001b[38;5;28mprint\u001b[39m(b\u001b[38;5;241m.\u001b[39mj)\n\u001b[0;32m---> 14\u001b[0m \u001b[43mmain\u001b[49m\u001b[43m(\u001b[49m\u001b[43m)\u001b[49m\n",
      "Input \u001b[0;32mIn [7]\u001b[0m, in \u001b[0;36mmain\u001b[0;34m()\u001b[0m\n\u001b[1;32m      9\u001b[0m \u001b[38;5;28;01mdef\u001b[39;00m \u001b[38;5;21mmain\u001b[39m():\n\u001b[1;32m     10\u001b[0m     b\u001b[38;5;241m=\u001b[39mB()\n\u001b[0;32m---> 11\u001b[0m     \u001b[38;5;28mprint\u001b[39m(\u001b[43mb\u001b[49m\u001b[38;5;241;43m.\u001b[39;49m\u001b[43mi\u001b[49m)\n\u001b[1;32m     12\u001b[0m     \u001b[38;5;28mprint\u001b[39m(b\u001b[38;5;241m.\u001b[39mj)\n",
      "\u001b[0;31mAttributeError\u001b[0m: 'B' object has no attribute 'i'"
     ]
    }
   ],
   "source": [
    "#Question 3\n",
    "class A:\n",
    "    def __init__(self, i=0):\n",
    "        self.i=i\n",
    "class B(A):\n",
    "    def __init__(self, j=0):\n",
    "        self.j=j\n",
    "        \n",
    "def main():\n",
    "    b=B()\n",
    "    print(b.i)\n",
    "    print(b.j)\n",
    "\n",
    "main()\n",
    "\n",
    "#A is the correct answer "
   ]
  },
  {
   "cell_type": "code",
   "execution_count": 8,
   "id": "bd41d0f4",
   "metadata": {},
   "outputs": [
    {
     "name": "stdout",
     "output_type": "stream",
     "text": [
      "hello world\n"
     ]
    }
   ],
   "source": [
    "#Question 4\n",
    "def main():\n",
    "    print(\"hello \", end='')\n",
    "    \n",
    "try:\n",
    "    if __name__==\"__main__\":\n",
    "        main()\n",
    "        \n",
    "except:\n",
    "    print('name')\n",
    "    \n",
    "    \n",
    "finally:\n",
    "    print('world')\n",
    "    \n",
    "#output is \"hello world\""
   ]
  },
  {
   "cell_type": "code",
   "execution_count": 9,
   "id": "5e4869b2",
   "metadata": {},
   "outputs": [
    {
     "name": "stdout",
     "output_type": "stream",
     "text": [
      "Sally\n"
     ]
    }
   ],
   "source": [
    "#Question 5\n",
    "class People():\n",
    " def __init__(self, name):\n",
    "        self.name=name\n",
    " def namePrint(self):\n",
    "        print(self.name)\n",
    "        \n",
    "person1=People(\"Sally\")\n",
    "person2=People(\"Louise\")\n",
    "\n",
    "person1.namePrint()\n",
    "\n",
    "#C is the correct answer . "
   ]
  },
  {
   "cell_type": "code",
   "execution_count": 10,
   "id": "0fa2d345",
   "metadata": {},
   "outputs": [
    {
     "ename": "TypeError",
     "evalue": "Only integers are allowed",
     "output_type": "error",
     "traceback": [
      "\u001b[0;31m---------------------------------------------------------------------------\u001b[0m",
      "\u001b[0;31mTypeError\u001b[0m                                 Traceback (most recent call last)",
      "Input \u001b[0;32mIn [10]\u001b[0m, in \u001b[0;36m<cell line: 3>\u001b[0;34m()\u001b[0m\n\u001b[1;32m      2\u001b[0m x\u001b[38;5;241m=\u001b[39m\u001b[38;5;124m'\u001b[39m\u001b[38;5;124mhello\u001b[39m\u001b[38;5;124m'\u001b[39m\n\u001b[1;32m      3\u001b[0m \u001b[38;5;28;01mif\u001b[39;00m \u001b[38;5;129;01mnot\u001b[39;00m \u001b[38;5;28mtype\u001b[39m(x) \u001b[38;5;129;01mis\u001b[39;00m \u001b[38;5;28mint\u001b[39m:\n\u001b[0;32m----> 4\u001b[0m     \u001b[38;5;28;01mraise\u001b[39;00m \u001b[38;5;167;01mTypeError\u001b[39;00m(\u001b[38;5;124m'\u001b[39m\u001b[38;5;124mOnly integers are allowed\u001b[39m\u001b[38;5;124m'\u001b[39m)\n",
      "\u001b[0;31mTypeError\u001b[0m: Only integers are allowed"
     ]
    }
   ],
   "source": [
    "#Question 6\n",
    "x='hello'\n",
    "if not type(x) is int:\n",
    "    raise TypeError('Only integers are allowed')\n",
    "    \n",
    "#output is \"TypeError: Only integers are allowed\""
   ]
  },
  {
   "cell_type": "code",
   "execution_count": null,
   "id": "cf7f31b0",
   "metadata": {},
   "outputs": [],
   "source": []
  }
 ],
 "metadata": {
  "kernelspec": {
   "display_name": "Python 3 (ipykernel)",
   "language": "python",
   "name": "python3"
  },
  "language_info": {
   "codemirror_mode": {
    "name": "ipython",
    "version": 3
   },
   "file_extension": ".py",
   "mimetype": "text/x-python",
   "name": "python",
   "nbconvert_exporter": "python",
   "pygments_lexer": "ipython3",
   "version": "3.9.12"
  }
 },
 "nbformat": 4,
 "nbformat_minor": 5
}
